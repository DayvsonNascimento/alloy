{
  "nbformat": 4,
  "nbformat_minor": 0,
  "metadata": {
    "colab": {
      "name": "Avaliação de Sistemas de RI.ipynb",
      "version": "0.3.2",
      "provenance": [],
      "include_colab_link": true
    },
    "language_info": {
      "codemirror_mode": {
        "name": "ipython",
        "version": 3
      },
      "file_extension": ".py",
      "mimetype": "text/x-python",
      "name": "python",
      "nbconvert_exporter": "python",
      "pygments_lexer": "ipython3",
      "version": "3.6.5"
    },
    "kernelspec": {
      "display_name": "Python 3",
      "language": "python",
      "name": "python3"
    }
  },
  "cells": [
    {
      "cell_type": "markdown",
      "metadata": {
        "id": "view-in-github",
        "colab_type": "text"
      },
      "source": [
        "<a href=\"https://colab.research.google.com/github/DayvsonNascimento/alloy/blob/master/Avalia%C3%A7%C3%A3o_de_Sistemas_de_RI.ipynb\" target=\"_parent\"><img src=\"https://colab.research.google.com/assets/colab-badge.svg\" alt=\"Open In Colab\"/></a>"
      ]
    },
    {
      "cell_type": "code",
      "metadata": {
        "id": "APBvpP1KuLT5",
        "colab_type": "code",
        "colab": {
          "base_uri": "https://localhost:8080/",
          "height": 53
        },
        "outputId": "5e982a29-bb73-4de8-bcca-6be411657636"
      },
      "source": [
        "import pandas as pd\n",
        "import nltk\n",
        "import re\n",
        "import collections\n",
        "import heapq\n",
        "import time\n",
        "import bisect\n",
        "import random\n",
        "import sys\n",
        "import numpy as np\n",
        "from nltk.tokenize import RegexpTokenizer\n",
        "import nltk\n",
        "nltk.download('stopwords')\n",
        "\n",
        "data = pd.read_csv('https://raw.githubusercontent.com/DayvsonNascimento/ri_lab_07/master/results.csv')\n",
        "articles_text = data['text']\n",
        "json = pd.read_json('https://raw.githubusercontent.com/DayvsonNascimento/ri_lab_07/master/results_final.json')\n",
        "feedback = {json['query'][i]:json['docs'][i] for i in range(10)}"
      ],
      "execution_count": 34,
      "outputs": [
        {
          "output_type": "stream",
          "text": [
            "[nltk_data] Downloading package stopwords to /root/nltk_data...\n",
            "[nltk_data]   Package stopwords is already up-to-date!\n"
          ],
          "name": "stdout"
        }
      ]
    },
    {
      "cell_type": "markdown",
      "metadata": {
        "id": "suuvJn__uLT8",
        "colab_type": "text"
      },
      "source": [
        "Reconstruir o índice considerando o conjunto de dados que foi indicado."
      ]
    },
    {
      "cell_type": "code",
      "metadata": {
        "id": "nkoIEX6huLT-",
        "colab_type": "code",
        "colab": {}
      },
      "source": [
        "tknz = RegexpTokenizer(r'\\b[^\\d\\W]+')\n",
        "stopwords = nltk.corpus.stopwords.words('portuguese') \n",
        "indexes = {}\n",
        "\n",
        "def get_indexes(articles_text, count):\n",
        "    for text in articles_text:\n",
        "        words = [word for word in tknz.tokenize(text.lower())\n",
        "               if not bool(re.search(r'\\d', word))\n",
        "               and word not in stopwords and len(word) >= 3]  \n",
        "        count += 1\n",
        "        for t in words:\n",
        "            if t not in indexes.keys():\n",
        "                indexes[t] = []\n",
        "            indexes[t].append(count)\n",
        "\n",
        "    for elem in indexes.items():\n",
        "        d = dict(collections.Counter(elem[1]))\n",
        "        indexes[elem[0]] = list(d.items())\n",
        "       \n",
        "        \n",
        "get_indexes(articles_text, count = 0)"
      ],
      "execution_count": 0,
      "outputs": []
    },
    {
      "cell_type": "markdown",
      "metadata": {
        "id": "3xnNP5IDuLUA",
        "colab_type": "text"
      },
      "source": [
        "Refinar o índice invertido de forma a também incluir o IDF (inverse document frequency) de cada termo do dicionário"
      ]
    },
    {
      "cell_type": "code",
      "metadata": {
        "id": "BGYC66houLUB",
        "colab_type": "code",
        "colab": {}
      },
      "source": [
        "for element in indexes:\n",
        "    k = len(indexes[element])\n",
        "    IDF = round(np.log((articles_text.count() + 1) / k), 2)\n",
        "    \n",
        "    indexes[element].append(IDF)"
      ],
      "execution_count": 0,
      "outputs": []
    },
    {
      "cell_type": "markdown",
      "metadata": {
        "id": "IAMhfqfpuLUF",
        "colab_type": "text"
      },
      "source": [
        "Implementação dos algoritmos:"
      ]
    },
    {
      "cell_type": "code",
      "metadata": {
        "id": "DWQpV0puuLUF",
        "colab_type": "code",
        "colab": {}
      },
      "source": [
        "\"\"\"\n",
        "Implementação do algoritmo que segue a ideia de representação binária.\n",
        "\"\"\"\n",
        "def get_binary_order(query, text):\n",
        "    query_terms = query.split()\n",
        "    text_terms = text.split()\n",
        "    counter = 0\n",
        "  \n",
        "    for term in query_terms:\n",
        "        counter += (term in text_terms)\n",
        "    \n",
        "    return counter"
      ],
      "execution_count": 0,
      "outputs": []
    },
    {
      "cell_type": "code",
      "metadata": {
        "id": "jFoZATm7uLUI",
        "colab_type": "code",
        "colab": {}
      },
      "source": [
        "\"\"\"\n",
        "Implementação do algoritmo que segue a ideia de 'Term Frequency Weighting'.\n",
        "\"\"\"\n",
        "def get_TF_order(query, text):\n",
        "    query_terms = query.split()\n",
        "    text_terms = text.split()\n",
        "    counter = 0\n",
        "  \n",
        "    for term in query_terms:\n",
        "        counter += text_terms.count(term)\n",
        "  \n",
        "    return counter"
      ],
      "execution_count": 0,
      "outputs": []
    },
    {
      "cell_type": "code",
      "metadata": {
        "id": "Ckzm5n0CuLUL",
        "colab_type": "code",
        "colab": {}
      },
      "source": [
        "\"\"\"\n",
        "Implementação do algoritmo que segue a ideia 'Term Frequency Weighting' acrescentado do \n",
        "'inverse document frequency' de cada termo.\n",
        "\"\"\"\n",
        "def get_TF_IDF_order(query, text ):\n",
        "    query_terms = query.split()\n",
        "    text_terms = text.split()\n",
        "    counter = 0\n",
        "  \n",
        "    for term in query_terms:\n",
        "        cwd = text_terms.count(term)\n",
        "        \n",
        "        if term in indexes:\n",
        "            counter += cwd * indexes[term][-1]\n",
        "  \n",
        "    return round(counter, 2)"
      ],
      "execution_count": 0,
      "outputs": []
    },
    {
      "cell_type": "code",
      "metadata": {
        "id": "dC94NE3VuLUN",
        "colab_type": "code",
        "colab": {}
      },
      "source": [
        "\"\"\"\n",
        "Implementação do algoritmo que segue a ideia do BM@5.\n",
        "\"\"\"\n",
        "def get_BM25_order(term, text, k):\n",
        "    terms = term.split()\n",
        "    text = text.split()\n",
        "    counter = 0\n",
        "  \n",
        "    terms = [term for term in terms if term in text]\n",
        "    \n",
        "    for term in terms:\n",
        "        cwd = text.count(term)\n",
        "        dfw = 0\n",
        "        \n",
        "        if term in indexes:\n",
        "            dfw = len(indexes[term][:-1])\n",
        "        \n",
        "        if(dfw != 0 ):\n",
        "            counter += (((k+1) * cwd) / (cwd + k)) * np.log10(((articles_text.count() + 1) / dfw))\n",
        "  \n",
        "    return round(counter, 2)"
      ],
      "execution_count": 0,
      "outputs": []
    },
    {
      "cell_type": "code",
      "metadata": {
        "id": "WDk2iTJRuLUQ",
        "colab_type": "code",
        "colab": {}
      },
      "source": [
        "\"\"\"\n",
        "Função auxiliar para montar os arrays com os resultados para uma determinada query utilizando\n",
        "os algoritmos do modelo vetorial i\n",
        "\"\"\"\n",
        "def get_models_results(query, n):\n",
        "    binary_representation,  tf_representation, tfidf_representation, bm25_representation = [], [], [], []\n",
        "    begin = 0\n",
        "    \n",
        "    for text in articles_text:\n",
        "        text = text.lower()\n",
        "        \n",
        "        '''\n",
        "        insere os resultados obtidos para as diferentes versões do modelo vetorial na posição \n",
        "        correta do array, começando da posição indicada pela variável 'begin'.\n",
        "        '''\n",
        "        bisect.insort(binary_representation, (get_binary_order(query, text), begin))\n",
        "        bisect.insort(tf_representation, (get_TF_order(query, text), begin))\n",
        "        bisect.insort(tfidf_representation, (get_TF_IDF_order(query, text), begin))\n",
        "        bisect.insort(bm25_representation, (get_BM25_order(query, text, 10), begin))\n",
        "        \n",
        "        begin += 1\n",
        "    \n",
        "    #invertendo o array e pegando os n primeiros, pois são os que maiores scores.\n",
        "    binary_representation = binary_representation[::-1][:n]\n",
        "    tf_representation = tf_representation[::-1][:n]\n",
        "    tfidf_representation = tfidf_representation[::-1][:n]\n",
        "    bm25_representation = bm25_representation[::-1][:n]\n",
        "        \n",
        "    return binary_representation, tf_representation, tfidf_representation, bm25_representation"
      ],
      "execution_count": 0,
      "outputs": []
    },
    {
      "cell_type": "markdown",
      "metadata": {
        "id": "r73AR1XKuLUT",
        "colab_type": "text"
      },
      "source": [
        "Q1: Escolha um documento dentre aqueles da base do aluno Bernardi e crie uma consulta que você acha que tem boas chances de recuperar este documento. Em seguida, avalie os resultados de tal consulta usando a métrica de avaliação Reciprocal Rank "
      ]
    },
    {
      "cell_type": "markdown",
      "metadata": {
        "id": "BghuTZxSuLUT",
        "colab_type": "text"
      },
      "source": [
        "Para esta questão, foi escolhida a pesquisa por \"milícia maduro\".\n",
        "\n",
        "A url do documento escolhido é: https://brasil.elpais.com/brasil/2019/03/29/internacional/1553824596_128119.html, que corresponde ao documento de número '98', de título 'Milícia  o exército popular a serviço de Maduro'."
      ]
    },
    {
      "cell_type": "code",
      "metadata": {
        "id": "xgWzZhw-uLUV",
        "colab_type": "code",
        "colab": {
          "base_uri": "https://localhost:8080/",
          "height": 53
        },
        "outputId": "1713fc2b-8969-4ca4-a363-3798a6fa9852"
      },
      "source": [
        "doc_number = 98\n",
        "doc = data.loc[doc_number]\n",
        "\n",
        "print(doc.url, \"\\n\", doc.title)"
      ],
      "execution_count": 42,
      "outputs": [
        {
          "output_type": "stream",
          "text": [
            "https://brasil.elpais.com/brasil/2019/03/29/internacional/1553824596_128119.html \n",
            " Milícia  o exército popular a serviço de Maduro\n"
          ],
          "name": "stdout"
        }
      ]
    },
    {
      "cell_type": "code",
      "metadata": {
        "id": "5ErBDsAyuLUb",
        "colab_type": "code",
        "colab": {}
      },
      "source": [
        "query = \"milicia maduro\"\n",
        "\n",
        "binary_representation1, tf_representation1, tfidf_representation1, bm25_representation1 = get_models_results(query, 10)"
      ],
      "execution_count": 0,
      "outputs": []
    },
    {
      "cell_type": "markdown",
      "metadata": {
        "id": "KLQlu8G2uLUe",
        "colab_type": "text"
      },
      "source": [
        "Tabela dos resultados obtidos com os diferentes modelos"
      ]
    },
    {
      "cell_type": "code",
      "metadata": {
        "id": "asmunKw3uLUg",
        "colab_type": "code",
        "colab": {
          "base_uri": "https://localhost:8080/",
          "height": 359
        },
        "outputId": "46a52742-8d9d-4fb5-c859-d1087e6e0a59"
      },
      "source": [
        "models_results = pd.DataFrame()\n",
        "\n",
        "models_results['Binary'] = binary_representation1\n",
        "models_results['TF'] = tf_representation1\n",
        "models_results['TF-IDF'] = tfidf_representation1\n",
        "models_results['BM25'] = bm25_representation1\n",
        "\n",
        "models_results"
      ],
      "execution_count": 44,
      "outputs": [
        {
          "output_type": "execute_result",
          "data": {
            "text/html": [
              "<div>\n",
              "<style scoped>\n",
              "    .dataframe tbody tr th:only-of-type {\n",
              "        vertical-align: middle;\n",
              "    }\n",
              "\n",
              "    .dataframe tbody tr th {\n",
              "        vertical-align: top;\n",
              "    }\n",
              "\n",
              "    .dataframe thead th {\n",
              "        text-align: right;\n",
              "    }\n",
              "</style>\n",
              "<table border=\"1\" class=\"dataframe\">\n",
              "  <thead>\n",
              "    <tr style=\"text-align: right;\">\n",
              "      <th></th>\n",
              "      <th>Binary</th>\n",
              "      <th>TF</th>\n",
              "      <th>TF-IDF</th>\n",
              "      <th>BM25</th>\n",
              "    </tr>\n",
              "  </thead>\n",
              "  <tbody>\n",
              "    <tr>\n",
              "      <th>0</th>\n",
              "      <td>(1, 246)</td>\n",
              "      <td>(10, 149)</td>\n",
              "      <td>(30.4, 149)</td>\n",
              "      <td>(7.25, 149)</td>\n",
              "    </tr>\n",
              "    <tr>\n",
              "      <th>1</th>\n",
              "      <td>(1, 182)</td>\n",
              "      <td>(5, 98)</td>\n",
              "      <td>(15.2, 98)</td>\n",
              "      <td>(4.84, 98)</td>\n",
              "    </tr>\n",
              "    <tr>\n",
              "      <th>2</th>\n",
              "      <td>(1, 152)</td>\n",
              "      <td>(5, 64)</td>\n",
              "      <td>(15.2, 64)</td>\n",
              "      <td>(4.84, 64)</td>\n",
              "    </tr>\n",
              "    <tr>\n",
              "      <th>3</th>\n",
              "      <td>(1, 149)</td>\n",
              "      <td>(4, 246)</td>\n",
              "      <td>(12.16, 246)</td>\n",
              "      <td>(4.14, 246)</td>\n",
              "    </tr>\n",
              "    <tr>\n",
              "      <th>4</th>\n",
              "      <td>(1, 98)</td>\n",
              "      <td>(4, 87)</td>\n",
              "      <td>(12.16, 87)</td>\n",
              "      <td>(4.14, 87)</td>\n",
              "    </tr>\n",
              "    <tr>\n",
              "      <th>5</th>\n",
              "      <td>(1, 96)</td>\n",
              "      <td>(2, 82)</td>\n",
              "      <td>(6.08, 82)</td>\n",
              "      <td>(2.42, 82)</td>\n",
              "    </tr>\n",
              "    <tr>\n",
              "      <th>6</th>\n",
              "      <td>(1, 87)</td>\n",
              "      <td>(2, 62)</td>\n",
              "      <td>(6.08, 62)</td>\n",
              "      <td>(2.42, 62)</td>\n",
              "    </tr>\n",
              "    <tr>\n",
              "      <th>7</th>\n",
              "      <td>(1, 82)</td>\n",
              "      <td>(1, 182)</td>\n",
              "      <td>(3.04, 182)</td>\n",
              "      <td>(1.32, 182)</td>\n",
              "    </tr>\n",
              "    <tr>\n",
              "      <th>8</th>\n",
              "      <td>(1, 64)</td>\n",
              "      <td>(1, 152)</td>\n",
              "      <td>(3.04, 152)</td>\n",
              "      <td>(1.32, 152)</td>\n",
              "    </tr>\n",
              "    <tr>\n",
              "      <th>9</th>\n",
              "      <td>(1, 62)</td>\n",
              "      <td>(1, 96)</td>\n",
              "      <td>(3.04, 96)</td>\n",
              "      <td>(1.32, 96)</td>\n",
              "    </tr>\n",
              "  </tbody>\n",
              "</table>\n",
              "</div>"
            ],
            "text/plain": [
              "     Binary         TF        TF-IDF         BM25\n",
              "0  (1, 246)  (10, 149)   (30.4, 149)  (7.25, 149)\n",
              "1  (1, 182)    (5, 98)    (15.2, 98)   (4.84, 98)\n",
              "2  (1, 152)    (5, 64)    (15.2, 64)   (4.84, 64)\n",
              "3  (1, 149)   (4, 246)  (12.16, 246)  (4.14, 246)\n",
              "4   (1, 98)    (4, 87)   (12.16, 87)   (4.14, 87)\n",
              "5   (1, 96)    (2, 82)    (6.08, 82)   (2.42, 82)\n",
              "6   (1, 87)    (2, 62)    (6.08, 62)   (2.42, 62)\n",
              "7   (1, 82)   (1, 182)   (3.04, 182)  (1.32, 182)\n",
              "8   (1, 64)   (1, 152)   (3.04, 152)  (1.32, 152)\n",
              "9   (1, 62)    (1, 96)    (3.04, 96)   (1.32, 96)"
            ]
          },
          "metadata": {
            "tags": []
          },
          "execution_count": 44
        }
      ]
    },
    {
      "cell_type": "markdown",
      "metadata": {
        "id": "inYMyKm1uLUk",
        "colab_type": "text"
      },
      "source": [
        "Reciprocal Rank"
      ]
    },
    {
      "cell_type": "code",
      "metadata": {
        "id": "78nMLUFcuLUk",
        "colab_type": "code",
        "colab": {
          "base_uri": "https://localhost:8080/",
          "height": 173
        },
        "outputId": "658547b7-e06b-46b8-8139-354b77b36972"
      },
      "source": [
        "##Valores calculados com base na posição que o doc selecionado (98) aparece no ranking de cada algoritmo.\n",
        "binary,tf, tf_idf, bm25 = 1/5, 1/2, 1/2, 1/2\n",
        "\n",
        "rank= pd.DataFrame()\n",
        "rank[\"Model\"] = ['Binary', 'TF', 'TF-IDF', 'BM25'] \n",
        "rank['Result'] = [binary, tf, tf_idf, bm25]\n",
        "\n",
        "rank"
      ],
      "execution_count": 45,
      "outputs": [
        {
          "output_type": "execute_result",
          "data": {
            "text/html": [
              "<div>\n",
              "<style scoped>\n",
              "    .dataframe tbody tr th:only-of-type {\n",
              "        vertical-align: middle;\n",
              "    }\n",
              "\n",
              "    .dataframe tbody tr th {\n",
              "        vertical-align: top;\n",
              "    }\n",
              "\n",
              "    .dataframe thead th {\n",
              "        text-align: right;\n",
              "    }\n",
              "</style>\n",
              "<table border=\"1\" class=\"dataframe\">\n",
              "  <thead>\n",
              "    <tr style=\"text-align: right;\">\n",
              "      <th></th>\n",
              "      <th>Model</th>\n",
              "      <th>Result</th>\n",
              "    </tr>\n",
              "  </thead>\n",
              "  <tbody>\n",
              "    <tr>\n",
              "      <th>0</th>\n",
              "      <td>Binary</td>\n",
              "      <td>0.2</td>\n",
              "    </tr>\n",
              "    <tr>\n",
              "      <th>1</th>\n",
              "      <td>TF</td>\n",
              "      <td>0.5</td>\n",
              "    </tr>\n",
              "    <tr>\n",
              "      <th>2</th>\n",
              "      <td>TF-IDF</td>\n",
              "      <td>0.5</td>\n",
              "    </tr>\n",
              "    <tr>\n",
              "      <th>3</th>\n",
              "      <td>BM25</td>\n",
              "      <td>0.5</td>\n",
              "    </tr>\n",
              "  </tbody>\n",
              "</table>\n",
              "</div>"
            ],
            "text/plain": [
              "    Model  Result\n",
              "0  Binary     0.2\n",
              "1      TF     0.5\n",
              "2  TF-IDF     0.5\n",
              "3    BM25     0.5"
            ]
          },
          "metadata": {
            "tags": []
          },
          "execution_count": 45
        }
      ]
    },
    {
      "cell_type": "markdown",
      "metadata": {
        "id": "jCTo_M13uLUo",
        "colab_type": "text"
      },
      "source": [
        "Representação binária:\n",
        "\n",
        "O binary retornou o documento esperado em 5ª posiçao com o Reciprocal Rank 1/5 = 0.2, vale ressaltar que o primeiro colocado, o documento de número 246 não fala em milícias, apenas de Maduro, sendo assim foi um resultado um pouco fora do esperado.\n",
        "\n",
        "TF, TF-IDF, BM25:\n",
        "\n",
        "Os modelos TF, TF-IDF e BM25 retornaram o documento esperado em segunda posição, com o Reciprocal Rank 1/2 = 0.5. O  documento de número 149 que foi retornado em primeiro posição nestes modelos , também fala bastante em Maduro e em milícias, o que justifica sua colocação. Portanto, o resultado obtido ao utilizar esses três algoritmos pode ser considerado bastante satisfatório."
      ]
    },
    {
      "cell_type": "markdown",
      "metadata": {
        "id": "Fl6lVgQNuLUp",
        "colab_type": "text"
      },
      "source": [
        "Q2: A partir do gabarito fornecido em OBS1, calcule o MAP para cada algoritmo abaixo e aponte qual obteve o melhor resultado. Para os cálculos do MAP, considere que um documento é relevante para uma dada consulta se este documento estiver entre os documentos do gabarito para essa consulta, senão ele deve ser considerado irrelevante."
      ]
    },
    {
      "cell_type": "markdown",
      "metadata": {
        "id": "_QBJL6hwuLUq",
        "colab_type": "text"
      },
      "source": [
        "Funções auxiliares:"
      ]
    },
    {
      "cell_type": "code",
      "metadata": {
        "id": "IS5P_tJSuLUs",
        "colab_type": "code",
        "colab": {}
      },
      "source": [
        "def getDocsIndexes(docs):\n",
        "    array = []\n",
        "    \n",
        "    for i in range(len(docs)):\n",
        "        array.append(docs[i][1])\n",
        "        \n",
        "    return array\n",
        "\n",
        "def getIntersection(l1, l2):\n",
        "    return len(list(set(l1) & set(l2))) \n",
        "\n",
        "def getUnion(l1, l2):\n",
        "    return len(list(set(l1) | set(l2)))\n",
        "\n",
        "def getRelevantDocs(query):\n",
        "    docs = []\n",
        "        \n",
        "    for doc in feedback[query]:\n",
        "        original_doc = data.loc[data.url == doc['URL']]\n",
        "        docs.append(original_doc.index[0])\n",
        "        \n",
        "    return docs\n",
        "    \n",
        "def getAP(query):\n",
        "    selected_docs = getRelevantDocs(query)\n",
        "\n",
        "    binary, tf, tfidf, bm25 = get_models_results(query, 5)\n",
        "    \n",
        "    ##extracting only the docs indexes from the results.\n",
        "    binary, tf, tf_idf, bm25 = getDocsIndexes(binary), getDocsIndexes(tf), getDocsIndexes(tfidf), getDocsIndexes(bm25)\n",
        "\n",
        "    ##calcutaling the ap values for the algorithms.\n",
        "    binary_value = getIntersection(binary, selected_docs) / len(binary)\n",
        "    tf_value = getIntersection(tf, selected_docs) / len(tf)\n",
        "    tfidf_value = getIntersection(tf_idf, selected_docs) / len(tf_idf)\n",
        "    bm25_value = getIntersection(bm25, selected_docs) / len(bm25)\n",
        "\n",
        "    return binary_value, tf_value, tfidf_value, bm25_value"
      ],
      "execution_count": 0,
      "outputs": []
    },
    {
      "cell_type": "markdown",
      "metadata": {
        "id": "AXKAKdmSuLUu",
        "colab_type": "text"
      },
      "source": [
        "Cálculo do MAP:"
      ]
    },
    {
      "cell_type": "code",
      "metadata": {
        "id": "CgUA_fkDuLUv",
        "colab_type": "code",
        "colab": {}
      },
      "source": [
        "def getMAP(queries):\n",
        "    binary_algorithm_sum, tf_algorithm_sum, tfidf_algorithm_sum, bm25_algorithm_sum = 0, 0, 0, 0\n",
        "  \n",
        "    for query in queries:\n",
        "        ap_value_binary, ap_value_tf, ap_value_tfidf, ap_value_bm25 = getAP(query)\n",
        "    \n",
        "        binary_algorithm_sum += ap_value_binary\n",
        "        tf_algorithm_sum += ap_value_tf\n",
        "        tfidf_algorithm_sum += ap_value_tfidf\n",
        "        bm25_algorithm_sum += ap_value_bm25\n",
        "\n",
        "    query_length = len(queries)\n",
        "    \n",
        "    #calcutaling the MAP values for the algorithms.\n",
        "    binary_value = binary_algorithm_sum /  query_length\n",
        "    tf_value = tf_algorithm_sum / query_length\n",
        "    tfidf_value = tfidf_algorithm_sum / query_length\n",
        "    bm25_value = bm25_algorithm_sum / query_length\n",
        "    \n",
        "    return binary_value, tf_value, tfidf_value, bm25_value"
      ],
      "execution_count": 0,
      "outputs": []
    },
    {
      "cell_type": "code",
      "metadata": {
        "id": "HAoUXdfbuLUy",
        "colab_type": "code",
        "colab": {}
      },
      "source": [
        "binary_map_value, tf_map_value, tfidf_map_value, bm25_map_value = getMAP(feedback.keys())"
      ],
      "execution_count": 0,
      "outputs": []
    },
    {
      "cell_type": "markdown",
      "metadata": {
        "id": "ph2jT8BmuLU1",
        "colab_type": "text"
      },
      "source": [
        "Representação binária:"
      ]
    },
    {
      "cell_type": "code",
      "metadata": {
        "id": "FiKVtdaiuLU3",
        "colab_type": "code",
        "colab": {
          "base_uri": "https://localhost:8080/",
          "height": 35
        },
        "outputId": "0c7b8576-ad06-4167-e825-4a257520f554"
      },
      "source": [
        "binary_map_value"
      ],
      "execution_count": 49,
      "outputs": [
        {
          "output_type": "execute_result",
          "data": {
            "text/plain": [
              "0.1"
            ]
          },
          "metadata": {
            "tags": []
          },
          "execution_count": 49
        }
      ]
    },
    {
      "cell_type": "markdown",
      "metadata": {
        "id": "qr2SDkIVuLVA",
        "colab_type": "text"
      },
      "source": [
        "O valor do MAP obtido utilizando os documentos selecionados e o algoritmo de representação binária foi de 0.1, um valor bastante baixo, tendo em vista que o valor do MAP vairia de 0 a 1."
      ]
    },
    {
      "cell_type": "markdown",
      "metadata": {
        "id": "wHWBCi3ruLVB",
        "colab_type": "text"
      },
      "source": [
        "TF:"
      ]
    },
    {
      "cell_type": "code",
      "metadata": {
        "id": "3_P969tJuLVD",
        "colab_type": "code",
        "colab": {
          "base_uri": "https://localhost:8080/",
          "height": 35
        },
        "outputId": "910c4103-eb37-42ae-f3e5-019eabb0a66b"
      },
      "source": [
        "tf_map_value"
      ],
      "execution_count": 50,
      "outputs": [
        {
          "output_type": "execute_result",
          "data": {
            "text/plain": [
              "0.02"
            ]
          },
          "metadata": {
            "tags": []
          },
          "execution_count": 50
        }
      ]
    },
    {
      "cell_type": "markdown",
      "metadata": {
        "id": "MAqUm7pCuLVJ",
        "colab_type": "text"
      },
      "source": [
        "O valor do MAP obtido utilizando os documentos selecionados e o algoritmo TF foi de 0.02, um valor extremamente baixo, sendo o pior colocado dos algoritmos utilizados."
      ]
    },
    {
      "cell_type": "markdown",
      "metadata": {
        "id": "WGGIlrjOuLVK",
        "colab_type": "text"
      },
      "source": [
        "TF-IDF:"
      ]
    },
    {
      "cell_type": "code",
      "metadata": {
        "id": "qtrAGDUjuLVK",
        "colab_type": "code",
        "colab": {
          "base_uri": "https://localhost:8080/",
          "height": 35
        },
        "outputId": "401d7d5c-c779-44df-a2be-e7b0861afcf5"
      },
      "source": [
        "tfidf_map_value"
      ],
      "execution_count": 51,
      "outputs": [
        {
          "output_type": "execute_result",
          "data": {
            "text/plain": [
              "0.18"
            ]
          },
          "metadata": {
            "tags": []
          },
          "execution_count": 51
        }
      ]
    },
    {
      "cell_type": "markdown",
      "metadata": {
        "id": "vJ5NHQi3uLVP",
        "colab_type": "text"
      },
      "source": [
        "O valor do MAP obtido utilizando os documentos selecionados e o algoritmo TF_IDF foi de 0.18, um valor também muito baixo, mas levemente maior do que os da Representação binária e o TF."
      ]
    },
    {
      "cell_type": "markdown",
      "metadata": {
        "id": "rS0C_5OBuLVQ",
        "colab_type": "text"
      },
      "source": [
        "BM25:"
      ]
    },
    {
      "cell_type": "code",
      "metadata": {
        "id": "Vo0o_NNuuLVQ",
        "colab_type": "code",
        "colab": {
          "base_uri": "https://localhost:8080/",
          "height": 35
        },
        "outputId": "fd0d6e7f-7dda-4232-e498-685bbbbc73ba"
      },
      "source": [
        "bm25_map_value"
      ],
      "execution_count": 52,
      "outputs": [
        {
          "output_type": "execute_result",
          "data": {
            "text/plain": [
              "0.2"
            ]
          },
          "metadata": {
            "tags": []
          },
          "execution_count": 52
        }
      ]
    },
    {
      "cell_type": "markdown",
      "metadata": {
        "id": "9ykEW64luLVT",
        "colab_type": "text"
      },
      "source": [
        "O valor do MAP obtido utilizando os documentos selecionados e o algoritmo BM25 foi de 0.2, um valor baixo, porém o melhor colocado dentro os algoritmos utilizados. Vale lembrar que no lab anterior, o BM25 também se destacou por 'retornar melhores resultados' junto do TF-IDF, tanto que a diferença do MAP dos dois é de apenas 0.02."
      ]
    },
    {
      "cell_type": "markdown",
      "metadata": {
        "id": "oYH9vEXAuLVU",
        "colab_type": "text"
      },
      "source": [
        "Q3:Repita Q2 usando a avaliação multi-nível DCG. Utilize o campo \"level\" do gabarito para o cálculo do DCG e do idealDCG"
      ]
    },
    {
      "cell_type": "markdown",
      "metadata": {
        "id": "-u5VE4LYuLVV",
        "colab_type": "text"
      },
      "source": [
        "Funções auxiliares a serem utilizadas no cálculo das métricas"
      ]
    },
    {
      "cell_type": "code",
      "metadata": {
        "id": "GJfINcxJuLVX",
        "colab_type": "code",
        "colab": {}
      },
      "source": [
        ""
      ],
      "execution_count": 0,
      "outputs": []
    }
  ]
}